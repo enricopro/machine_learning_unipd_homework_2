{
 "cells": [
  {
   "cell_type": "markdown",
   "metadata": {},
   "source": [
    "# SVM for classification, without and with kernels\n",
    "\n",
    "In this notebook we are going to explore the use of Support Vector Machines (SVMs) for image classification. We are going to use the famous MNIST dataset, that is a dataset of handwritten digits. We get the data from mldata.org, that is a public repository for machine learning data.\n",
    "\n",
    "The dataset consists of 70,000 images of handwritten digits (i.e., 0, 1, ... 9). Each image is 28 pixels by 28 pixels and we can think of it as a vector of 28x28 = 784 numbers. Each number is an integer between 0 and 255. For each image we have the corresponding label (i.e., 0, 1, ..., 9)."
   ]
  },
  {
   "cell_type": "code",
   "execution_count": 1,
   "metadata": {},
   "outputs": [],
   "source": [
    "#load the required packages\n",
    "\n",
    "%matplotlib inline  \n",
    "\n",
    "import numpy as np\n",
    "import matplotlib.pyplot as plt\n",
    "\n",
    "import sklearn\n",
    "from sklearn.datasets import fetch_openml"
   ]
  },
  {
   "cell_type": "code",
   "execution_count": 2,
   "metadata": {},
   "outputs": [],
   "source": [
    "#fix your ID (\"numero di matricola\") and the seed for random generator\n",
    "ID = 2093708\n",
    "np.random.seed(ID)"
   ]
  },
  {
   "cell_type": "markdown",
   "metadata": {},
   "source": [
    "Now let's load the dataset. 'data' contains the input, 'target' contains the label. We normalize the data by dividing each value by 255 so that each value is in [0,1]"
   ]
  },
  {
   "cell_type": "code",
   "execution_count": 3,
   "metadata": {},
   "outputs": [],
   "source": [
    "#load the MNIST dataset and let's normalize the features so that each value is in [0,1]\n",
    "mnist = fetch_openml('mnist_784', version=1)\n",
    "# rescale the data\n",
    "X, y = mnist.data.values / 255., mnist.target.values"
   ]
  },
  {
   "cell_type": "markdown",
   "metadata": {},
   "source": [
    "Now split into training and test. We keep 500 samples in the training set. Make sure that each label is present at least 10 times\n",
    "in training. If it is not, then keep adding permutations to the initial data until this \n",
    "happens.\n",
    "\n",
    "**IMPORTANT**: if you cannot run the SVM with 500 samples or 1000 samples (see below), try with a smaller number of samples (e.g. 200 here and 400 below)."
   ]
  },
  {
   "cell_type": "code",
   "execution_count": 4,
   "metadata": {},
   "outputs": [
    {
     "name": "stdout",
     "output_type": "stream",
     "text": [
      "Labels and frequencies in training dataset: \n"
     ]
    },
    {
     "data": {
      "text/plain": [
       "(array(['0', '1', '2', '3', '4', '5', '6', '7', '8', '9'], dtype=object),\n",
       " array([50, 59, 41, 68, 42, 54, 48, 42, 43, 53], dtype=int64))"
      ]
     },
     "execution_count": 4,
     "metadata": {},
     "output_type": "execute_result"
    }
   ],
   "source": [
    "#random permute the data and split into training and test taking the first 500\n",
    "#data samples as training and the rests as test\n",
    "permutation = np.random.permutation(X.shape[0])\n",
    "\n",
    "X = X[permutation]\n",
    "y = y[permutation]\n",
    "\n",
    "m_training = 500\n",
    "\n",
    "X_train, X_test = X[:m_training], X[m_training:]\n",
    "y_train, y_test = y[:m_training], y[m_training:]\n",
    "\n",
    "print(\"Labels and frequencies in training dataset: \")\n",
    "np.unique(y_train, return_counts = True)"
   ]
  },
  {
   "cell_type": "markdown",
   "metadata": {},
   "source": [
    "We now provide a function to print an image in the dataset and the corresponding true label given the index of the image in the dataset."
   ]
  },
  {
   "cell_type": "code",
   "execution_count": 5,
   "metadata": {},
   "outputs": [],
   "source": [
    "#function for plotting a digit and printing the corresponding labe\n",
    "def plot_digit(X_matrix, labels, index):\n",
    "    print(\"INPUT:\")\n",
    "    plt.imshow(\n",
    "        X_matrix[index].reshape(28,28),\n",
    "        cmap          = plt.cm.gray_r,\n",
    "        interpolation = \"nearest\"\n",
    "    )\n",
    "    plt.show()\n",
    "    print(\"LABEL: %s\" % labels[index])\n",
    "    return"
   ]
  },
  {
   "cell_type": "markdown",
   "metadata": {},
   "source": [
    "As an example, let's print the 100-th image in X_train and the 40,000-th image in X_test and their true labels."
   ]
  },
  {
   "cell_type": "code",
   "execution_count": 6,
   "metadata": {},
   "outputs": [
    {
     "name": "stdout",
     "output_type": "stream",
     "text": [
      "INPUT:\n"
     ]
    },
    {
     "data": {
      "image/png": "[encoded data removed]",
      "text/plain": [
       "<Figure size 640x480 with 1 Axes>"
      ]
     },
     "metadata": {},
     "output_type": "display_data"
    },
    {
     "name": "stdout",
     "output_type": "stream",
     "text": [
      "LABEL: 3\n",
      "INPUT:\n"
     ]
    },
    {
     "data": {
      "image/png": "[encoded data removed]",
      "text/plain": [
       "<Figure size 640x480 with 1 Axes>"
      ]
     },
     "metadata": {},
     "output_type": "display_data"
    },
    {
     "name": "stdout",
     "output_type": "stream",
     "text": [
      "LABEL: 1\n"
     ]
    }
   ],
   "source": [
    "#let's try the plotting function\n",
    "plot_digit(X_train,y_train,100)\n",
    "plot_digit(X_test,y_test,40000)"
   ]
  },
  {
   "cell_type": "markdown",
   "metadata": {},
   "source": [
    "## TO DO 1\n",
    "Run SVM with 5-fold cross validation to pick the best kernel and values of parameters. We provide some potential choice for parameters, but change the grid if needed (e.g., it takes too long). For the SVM for classification use SVC from sklearn.svm; for the grid search we suggest you use GridSearchCV from sklearn.model_selection, but you can implement your own cross-validation for model selection if you prefer.\n",
    "\n",
    "Finally, print the best parameters used as well as the score obtained by the best model"
   ]
  },
  {
   "cell_type": "code",
   "execution_count": 7,
   "metadata": {},
   "outputs": [
    {
     "name": "stdout",
     "output_type": "stream",
     "text": [
      "RESULTS FOR LINEAR KERNEL\n",
      "\n",
      "Best parameters set found:\n",
      "{'C': 1}\n",
      "Score with best parameters:\n",
      "0.8560000000000001\n",
      "\n",
      "All scores on the grid:\n",
      "{'C': 1} 0.8560000000000001\n",
      "{'C': 10} 0.8560000000000001\n",
      "{'C': 100} 0.8560000000000001\n",
      "\n",
      "RESULTS FOR POLY DEGREE=2 KERNEL\n",
      "\n",
      "Best parameters set found:\n",
      "{'C': 1, 'gamma': 0.1}\n",
      "Score with best parameters:\n",
      "0.8619999999999999\n",
      "\n",
      "All scores on the grid:\n",
      "{'C': 1, 'gamma': 0.01} 0.834\n",
      "{'C': 1, 'gamma': 0.1} 0.8619999999999999\n",
      "{'C': 1, 'gamma': 1.0} 0.8619999999999999\n",
      "{'C': 10, 'gamma': 0.01} 0.86\n",
      "{'C': 10, 'gamma': 0.1} 0.8619999999999999\n",
      "{'C': 10, 'gamma': 1.0} 0.8619999999999999\n",
      "{'C': 100, 'gamma': 0.01} 0.8619999999999999\n",
      "{'C': 100, 'gamma': 0.1} 0.8619999999999999\n",
      "{'C': 100, 'gamma': 1.0} 0.8619999999999999\n",
      "\n",
      "RESULTS FOR rbf KERNEL\n",
      "\n",
      "Best parameters set found:\n",
      "{'C': 10, 'gamma': 0.01}\n",
      "Score with best parameters:\n",
      "0.884\n",
      "\n",
      "All scores on the grid:\n",
      "{'C': 1, 'gamma': 0.01} 0.8800000000000001\n",
      "{'C': 1, 'gamma': 0.1} 0.3\n",
      "{'C': 1, 'gamma': 1.0} 0.136\n",
      "{'C': 10, 'gamma': 0.01} 0.884\n",
      "{'C': 10, 'gamma': 0.1} 0.3440000000000001\n",
      "{'C': 10, 'gamma': 1.0} 0.14200000000000002\n",
      "{'C': 100, 'gamma': 0.01} 0.884\n",
      "{'C': 100, 'gamma': 0.1} 0.3440000000000001\n",
      "{'C': 100, 'gamma': 1.0} 0.14200000000000002\n"
     ]
    }
   ],
   "source": [
    "#import SVC\n",
    "from sklearn.svm import SVC\n",
    "#import for Cross-Validation\n",
    "from sklearn.model_selection import GridSearchCV\n",
    "\n",
    "# parameters for linear SVM\n",
    "parameters = {'C': [1, 10, 100]}\n",
    "\n",
    "#run linear SVM\n",
    "linear_SVM = SVC(kernel='linear')\n",
    "\n",
    "#find best model using 5-fold CV \n",
    "#and train it using all the training data\n",
    "linear_SVM_best = GridSearchCV(linear_SVM, parameters, cv=5)\n",
    "linear_SVM_best.fit(X_train, y_train)\n",
    "\n",
    "print ('RESULTS FOR LINEAR KERNEL\\n')\n",
    "\n",
    "print(\"Best parameters set found:\")\n",
    "print(linear_SVM_best.best_params_)\n",
    "\n",
    "print(\"Score with best parameters:\")\n",
    "print(linear_SVM_best.best_score_)\n",
    "\n",
    "print(\"\\nAll scores on the grid:\")\n",
    "for i in range(len(linear_SVM_best.cv_results_['mean_test_score'])):\n",
    "    print(linear_SVM_best.cv_results_['params'][i], linear_SVM_best.cv_results_['mean_test_score'][i])\n",
    "\n",
    "# parameters for poly with degree 2 kernel\n",
    "parameters = {'C': [1, 10, 100],'gamma':[0.01,0.1,1.]}\n",
    "\n",
    "#run SVM with poly of degree 2 kernel\n",
    "poly2_SVM = SVC(kernel='poly',degree=2)\n",
    "\n",
    "#find best model using 5-fold CV \n",
    "#and train it using all the training data\n",
    "poly2_SVM_best = GridSearchCV(poly2_SVM, parameters, cv=5)\n",
    "poly2_SVM_best.fit(X_train, y_train)\n",
    "\n",
    "print ('\\nRESULTS FOR POLY DEGREE=2 KERNEL\\n')\n",
    "\n",
    "print(\"Best parameters set found:\")\n",
    "print(poly2_SVM_best.best_params_)\n",
    "\n",
    "print(\"Score with best parameters:\")\n",
    "print(poly2_SVM_best.best_score_)\n",
    "\n",
    "print(\"\\nAll scores on the grid:\")\n",
    "for i in range(len(poly2_SVM_best.cv_results_['mean_test_score'])):\n",
    "    print(poly2_SVM_best.cv_results_['params'][i], poly2_SVM_best.cv_results_['mean_test_score'][i])\n",
    "\n",
    "# parameters for rbf SVM\n",
    "parameters = {'C': [1, 10, 100],'gamma':[0.01,0.1,1.]}\n",
    "\n",
    "#run SVM with rbf kernel\n",
    "rbf_SVM = SVC(kernel='rbf')\n",
    "\n",
    "#find best model using 5-fold CV \n",
    "#and train it using all the training data\n",
    "rbf_SVM_best = GridSearchCV(rbf_SVM, parameters, cv=5)\n",
    "rbf_SVM_best.fit(X_train, y_train)\n",
    "\n",
    "print ('\\nRESULTS FOR rbf KERNEL\\n')\n",
    "\n",
    "print(\"Best parameters set found:\")\n",
    "print(rbf_SVM_best.best_params_)\n",
    "\n",
    "print(\"Score with best parameters:\")\n",
    "print(rbf_SVM_best.best_score_)\n",
    "\n",
    "print(\"\\nAll scores on the grid:\")\n",
    "for i in range(len(rbf_SVM_best.cv_results_['mean_test_score'])):\n",
    "    print(rbf_SVM_best.cv_results_['params'][i], rbf_SVM_best.cv_results_['mean_test_score'][i])\n"
   ]
  },
  {
   "cell_type": "markdown",
   "metadata": {},
   "source": [
    "## TO DO 2\n",
    "For the \"best\" SVM kernel and choice of parameters from above, train the model on the entire training set and measure the training error. Also make predictions on the test set and measure the test error. Print the training and the test error."
   ]
  },
  {
   "cell_type": "code",
   "execution_count": 8,
   "metadata": {},
   "outputs": [
    {
     "name": "stdout",
     "output_type": "stream",
     "text": [
      "Best SVM training error: 0.000000\n",
      "Best SVM test error: 0.103122\n"
     ]
    }
   ],
   "source": [
    "#get training and test error for the best SVM model from CV\n",
    "best_SVM = rbf_SVM_best.best_estimator_\n",
    "\n",
    "# fit the model on the entire training set\n",
    "# ADD CODE\n",
    "best_SVM.fit(X_train, y_train)\n",
    "\n",
    "#get the training and test error\n",
    "training_error = 1. - best_SVM.score(X_train,y_train)\n",
    "test_error = 1. - best_SVM.score(X_test,y_test)\n",
    "\n",
    "print (\"Best SVM training error: %f\" % training_error)\n",
    "print (\"Best SVM test error: %f\" % test_error)"
   ]
  },
  {
   "cell_type": "markdown",
   "metadata": {},
   "source": [
    "## Use logistic regression for comparison\n",
    "\n",
    "## TO DO 3\n",
    "\n",
    "Just for comparison let's also use logistic regression, first with the default values of the parameter for regularization and then with cross-validation to fix the value of the parameters. For cross validation, use 5-fold cross validation and the default values of the regularization parameters for the function linear_model.LogisticRegressionCV(...).\n",
    "\n",
    "Note: during training you may receive a \"ConvergenceWarning\" that indicates that the logistic regression solver did not converge to the optimal result. Given the scope of the notebook, we can ignore such warning but in real-world scenarios you should take corrective measures such as increasing the number of training iterations and/or the runtime for training or picking a different optimizer"
   ]
  },
  {
   "cell_type": "code",
   "execution_count": 9,
   "metadata": {},
   "outputs": [
    {
     "name": "stdout",
     "output_type": "stream",
     "text": [
      "Best logistic regression training error: 0.000000\n",
      "Best logistic regression test error: 0.148475\n",
      "Best logistic regression training error with CV: 0.048000\n",
      "Best logistic regression test error with CV: 0.152432\n"
     ]
    }
   ],
   "source": [
    "from sklearn import linear_model\n",
    "import warnings\n",
    "warnings.filterwarnings(\"ignore\")\n",
    "\n",
    "lr = linear_model.LogisticRegression()\n",
    "# fit the model on the training data\n",
    "lr.fit(X_train, y_train)\n",
    "\n",
    "#compute training and test error for model above\n",
    "training_error = 1. - lr.score(X_train, y_train)\n",
    "test_error = 1. - lr.score(X_test, y_test)\n",
    "\n",
    "print (\"Best logistic regression training error: %f\" % training_error)\n",
    "print (\"Best logistic regression test error: %f\" % test_error)\n",
    "\n",
    "#logistic regression with 5-fold CV: you can use use linear_model.LogisticRegressionCV\n",
    "# use 5-fold CV to find the best choice of the parameter, than train\n",
    "# the model on the entire training set\n",
    "lr_cv = linear_model.LogisticRegressionCV(cv=5)\n",
    "lr_cv.fit(X_train, y_train)\n",
    "\n",
    "training_error_cv = 1. - lr_cv.score(X_train, y_train)\n",
    "test_error_cv = 1. - lr_cv.score(X_test, y_test)\n",
    "\n",
    "print (\"Best logistic regression training error with CV: %f\" % training_error_cv)\n",
    "print (\"Best logistic regression test error with CV: %f\" % test_error_cv)\n"
   ]
  },
  {
   "attachments": {},
   "cell_type": "markdown",
   "metadata": {},
   "source": [
    "## TO DO 4 \n",
    "Compare and comment the results from SVM and logistic regression.`\n",
    "\n",
    "After running SVM and logistic regression on the training data, we can compare the results and discuss the strengths and weaknesses of each method.\n",
    "We can see that SVM and logistic regression achieved similar performance on this dataset, with logistic regression slightly outperforming SVM on the training set and SVM outperforming logistic regression on the test set.\n",
    "One of the main advantages of SVM is that it can handle non-linearly separable data by using kernels, which allows it to learn complex decision boundaries and achieve higher accuracy. On the other hand, logistic regression is a simpler and faster method, and it is easier to interpret the results (e.g., the coefficients of the features indicate their importance in the classification decision). Concluding, logistic regression can be easily regularized to avoid overfitting and improve the generalization performance. However, in this case, the linear model is better because the data is not very complex."
   ]
  },
  {
   "cell_type": "markdown",
   "metadata": {},
   "source": [
    "## TO DO 5\n",
    "Write the code that finds and plots a digit that is missclassified by logistic regression (optimized for the regularization parameter) and correctly classified by the \"best\" SVM.\n",
    "\n",
    "\n",
    "This code will first get the predictions from logistic regression and SVM on the test set. Then, it will find the indices of the test examples that are missclassified by logistic regression and correctly classified by SVM. It will pick the first such index and plot the corresponding digit, along with the true and predicted labels for logistic regression and SVM. This will show the digit that is missclassified by logistic regression and correctly classified by SVM."
   ]
  },
  {
   "cell_type": "code",
   "execution_count": 10,
   "metadata": {},
   "outputs": [
    {
     "name": "stdout",
     "output_type": "stream",
     "text": [
      "INPUT:\n"
     ]
    },
    {
     "data": {
      "image/png": "[encoded data removed]",
      "text/plain": [
       "<Figure size 640x480 with 1 Axes>"
      ]
     },
     "metadata": {},
     "output_type": "display_data"
    },
    {
     "name": "stdout",
     "output_type": "stream",
     "text": [
      "LABEL: 9\n",
      "SVM prediction: 9\n",
      "LR prediction: 3\n"
     ]
    }
   ],
   "source": [
    "# get the predictions from logistic regression and SVM\n",
    "logistic_pred = lr_cv.predict(X_test)\n",
    "svm_pred = best_SVM.predict(X_test)\n",
    "\n",
    "for i in range(0, len(logistic_pred)):\n",
    "    if svm_pred[i] != logistic_pred[i] and svm_pred[i] == y_test[i]:\n",
    "        plot_digit(X_test,y_test,i)\n",
    "        print(\"SVM prediction: %s\" % svm_pred[i])\n",
    "        print(\"LR prediction: %s\" % logistic_pred[i])\n",
    "        break\n"
   ]
  },
  {
   "cell_type": "markdown",
   "metadata": {},
   "source": [
    "## More data\n",
    "Now let's do the same but using 1000 data points for training. \n",
    "\n",
    "## TO DO 6\n",
    "Repeat the entire analysis above using 1000 samples. Of course you can copy the code from above (but no need to copy markdown comments)."
   ]
  },
  {
   "cell_type": "code",
   "execution_count": 11,
   "metadata": {},
   "outputs": [
    {
     "name": "stdout",
     "output_type": "stream",
     "text": [
      "Labels and frequencies in training dataset: \n"
     ]
    },
    {
     "data": {
      "text/plain": [
       "(array(['0', '1', '2', '3', '4', '5', '6', '7', '8', '9'], dtype=object),\n",
       " array([ 94, 132,  86,  96,  83,  95, 112, 103, 106,  93], dtype=int64))"
      ]
     },
     "execution_count": 11,
     "metadata": {},
     "output_type": "execute_result"
    }
   ],
   "source": [
    "#random permute the data and split into training and test taking the first 500\n",
    "#data samples as training and the rests as test\n",
    "permutation = np.random.permutation(X.shape[0])\n",
    "\n",
    "X = X[permutation]\n",
    "y = y[permutation]\n",
    "\n",
    "m_training = 1000\n",
    "\n",
    "X_train, X_test = X[:m_training], X[m_training:]\n",
    "y_train, y_test = y[:m_training], y[m_training:]\n",
    "\n",
    "print(\"Labels and frequencies in training dataset: \")\n",
    "np.unique(y_train, return_counts = True)"
   ]
  },
  {
   "cell_type": "code",
   "execution_count": 12,
   "metadata": {},
   "outputs": [],
   "source": [
    "#function for plotting a digit and printing the corresponding labe\n",
    "def plot_digit(X_matrix, labels, index):\n",
    "    print(\"INPUT:\")\n",
    "    plt.imshow(\n",
    "        X_matrix[index].reshape(28,28),\n",
    "        cmap          = plt.cm.gray_r,\n",
    "        interpolation = \"nearest\"\n",
    "    )\n",
    "    plt.show()\n",
    "    print(\"LABEL: %s\" % labels[index])\n",
    "    return"
   ]
  },
  {
   "cell_type": "code",
   "execution_count": 13,
   "metadata": {},
   "outputs": [
    {
     "name": "stdout",
     "output_type": "stream",
     "text": [
      "INPUT:\n"
     ]
    },
    {
     "data": {
      "image/png": "[encoded data removed]",
      "text/plain": [
       "<Figure size 640x480 with 1 Axes>"
      ]
     },
     "metadata": {},
     "output_type": "display_data"
    },
    {
     "name": "stdout",
     "output_type": "stream",
     "text": [
      "LABEL: 9\n",
      "INPUT:\n"
     ]
    },
    {
     "data": {
      "image/png": "[encoded data removed]",
      "text/plain": [
       "<Figure size 640x480 with 1 Axes>"
      ]
     },
     "metadata": {},
     "output_type": "display_data"
    },
    {
     "name": "stdout",
     "output_type": "stream",
     "text": [
      "LABEL: 0\n"
     ]
    }
   ],
   "source": [
    "#let's try the plotting function\n",
    "plot_digit(X_train,y_train,100)\n",
    "plot_digit(X_test,y_test,40000)"
   ]
  },
  {
   "cell_type": "code",
   "execution_count": 14,
   "metadata": {},
   "outputs": [
    {
     "name": "stdout",
     "output_type": "stream",
     "text": [
      "RESULTS FOR LINEAR KERNEL\n",
      "\n",
      "Best parameters set found:\n",
      "{'C': 1}\n",
      "Score with best parameters:\n",
      "0.869\n",
      "\n",
      "All scores on the grid:\n",
      "{'C': 1} 0.869\n",
      "{'C': 10} 0.869\n",
      "{'C': 100} 0.869\n",
      "\n",
      "RESULTS FOR POLY DEGREE=2 KERNEL\n",
      "\n",
      "Best parameters set found:\n",
      "{'C': 10, 'gamma': 0.01}\n",
      "Score with best parameters:\n",
      "0.8940000000000001\n",
      "\n",
      "All scores on the grid:\n",
      "{'C': 1, 'gamma': 0.01} 0.868\n",
      "{'C': 1, 'gamma': 0.1} 0.891\n",
      "{'C': 1, 'gamma': 1.0} 0.891\n",
      "{'C': 10, 'gamma': 0.01} 0.8940000000000001\n",
      "{'C': 10, 'gamma': 0.1} 0.891\n",
      "{'C': 10, 'gamma': 1.0} 0.891\n",
      "{'C': 100, 'gamma': 0.01} 0.891\n",
      "{'C': 100, 'gamma': 0.1} 0.891\n",
      "{'C': 100, 'gamma': 1.0} 0.891\n",
      "\n",
      "RESULTS FOR rbf KERNEL\n",
      "\n",
      "Best parameters set found:\n",
      "{'C': 10, 'gamma': 0.01}\n",
      "Score with best parameters:\n",
      "0.9040000000000001\n",
      "\n",
      "All scores on the grid:\n",
      "{'C': 1, 'gamma': 0.01} 0.901\n",
      "{'C': 1, 'gamma': 0.1} 0.6199999999999999\n",
      "{'C': 1, 'gamma': 1.0} 0.132\n",
      "{'C': 10, 'gamma': 0.01} 0.9040000000000001\n",
      "{'C': 10, 'gamma': 0.1} 0.653\n",
      "{'C': 10, 'gamma': 1.0} 0.132\n",
      "{'C': 100, 'gamma': 0.01} 0.9040000000000001\n",
      "{'C': 100, 'gamma': 0.1} 0.653\n",
      "{'C': 100, 'gamma': 1.0} 0.132\n"
     ]
    }
   ],
   "source": [
    "#import SVC\n",
    "from sklearn.svm import SVC\n",
    "#import for Cross-Validation\n",
    "from sklearn.model_selection import GridSearchCV\n",
    "\n",
    "# parameters for linear SVM\n",
    "parameters = {'C': [1, 10, 100]}\n",
    "\n",
    "#run linear SVM\n",
    "linear_SVM = SVC(kernel='linear')\n",
    "\n",
    "#find best model using 5-fold CV \n",
    "#and train it using all the training data\n",
    "linear_SVM_best = GridSearchCV(linear_SVM, parameters, cv=5)\n",
    "linear_SVM_best.fit(X_train, y_train)\n",
    "\n",
    "print('RESULTS FOR LINEAR KERNEL\\n')\n",
    "\n",
    "print(\"Best parameters set found:\")\n",
    "print(linear_SVM_best.best_params_)\n",
    "\n",
    "print(\"Score with best parameters:\")\n",
    "print(linear_SVM_best.best_score_)\n",
    "\n",
    "print(\"\\nAll scores on the grid:\")\n",
    "for i in range(len(linear_SVM_best.cv_results_['mean_test_score'])):\n",
    "    print(linear_SVM_best.cv_results_['params'][i], linear_SVM_best.cv_results_['mean_test_score'][i])\n",
    "\n",
    "# parameters for poly with degree 2 kernel\n",
    "parameters = {'C': [1, 10, 100],'gamma':[0.01,0.1,1.]}\n",
    "\n",
    "#run SVM with poly of degree 2 kernel\n",
    "poly2_SVM = SVC(kernel='poly',degree=2)\n",
    "\n",
    "#find best model using 5-fold CV \n",
    "#and train it using all the training data\n",
    "poly2_SVM_best = GridSearchCV(poly2_SVM, parameters, cv=5)\n",
    "poly2_SVM_best.fit(X_train, y_train)\n",
    "\n",
    "print ('\\nRESULTS FOR POLY DEGREE=2 KERNEL\\n')\n",
    "\n",
    "print(\"Best parameters set found:\")\n",
    "print(poly2_SVM_best.best_params_)\n",
    "\n",
    "print(\"Score with best parameters:\")\n",
    "print(poly2_SVM_best.best_score_)\n",
    "\n",
    "print(\"\\nAll scores on the grid:\")\n",
    "for i in range(len(poly2_SVM_best.cv_results_['mean_test_score'])):\n",
    "    print(poly2_SVM_best.cv_results_['params'][i], poly2_SVM_best.cv_results_['mean_test_score'][i])\n",
    "\n",
    "# parameters for rbf SVM\n",
    "parameters = {'C': [1, 10, 100],'gamma':[0.01,0.1,1.]}\n",
    "\n",
    "#run SVM with rbf kernel\n",
    "rbf_SVM = SVC(kernel='rbf')\n",
    "\n",
    "#find best model using 5-fold CV \n",
    "#and train it using all the training data\n",
    "rbf_SVM_best = GridSearchCV(rbf_SVM, parameters, cv=5)\n",
    "rbf_SVM_best.fit(X_train, y_train)\n",
    "\n",
    "print ('\\nRESULTS FOR rbf KERNEL\\n')\n",
    "\n",
    "print(\"Best parameters set found:\")\n",
    "print(rbf_SVM_best.best_params_)\n",
    "\n",
    "print(\"Score with best parameters:\")\n",
    "print(rbf_SVM_best.best_score_)\n",
    "\n",
    "print(\"\\nAll scores on the grid:\")\n",
    "for i in range(len(rbf_SVM_best.cv_results_['mean_test_score'])):\n",
    "    print(rbf_SVM_best.cv_results_['params'][i], rbf_SVM_best.cv_results_['mean_test_score'][i])\n"
   ]
  },
  {
   "cell_type": "code",
   "execution_count": 15,
   "metadata": {},
   "outputs": [
    {
     "name": "stdout",
     "output_type": "stream",
     "text": [
      "Best SVM training error: 0.000000\n",
      "Best SVM test error: 0.081072\n"
     ]
    }
   ],
   "source": [
    "#get training and test error for the best SVM model from CV\n",
    "best_SVM = rbf_SVM_best.best_estimator_\n",
    "\n",
    "# fit the model on the entire training set\n",
    "# ADD CODE\n",
    "best_SVM.fit(X_train, y_train)\n",
    "\n",
    "#get the training and test error\n",
    "training_error = 1. - best_SVM.score(X_train,y_train)\n",
    "test_error = 1. - best_SVM.score(X_test,y_test)\n",
    "\n",
    "print (\"Best SVM training error: %f\" % training_error)\n",
    "print (\"Best SVM test error: %f\" % test_error)"
   ]
  },
  {
   "cell_type": "code",
   "execution_count": 16,
   "metadata": {},
   "outputs": [
    {
     "name": "stdout",
     "output_type": "stream",
     "text": [
      "Best logistic regression training error: 0.000000\n",
      "Best logistic regression test error: 0.135681\n",
      "Best logistic regression training error with CV: 0.056000\n",
      "Best logistic regression test error with CV: 0.131159\n"
     ]
    }
   ],
   "source": [
    "from sklearn import linear_model\n",
    "import warnings\n",
    "warnings.filterwarnings(\"ignore\")\n",
    "\n",
    "lr = linear_model.LogisticRegression()\n",
    "# fit the model on the training data\n",
    "lr.fit(X_train, y_train)\n",
    "\n",
    "#compute training and test error for model above\n",
    "training_error = 1. - lr.score(X_train, y_train)\n",
    "test_error = 1. - lr.score(X_test, y_test)\n",
    "\n",
    "print (\"Best logistic regression training error: %f\" % training_error)\n",
    "print (\"Best logistic regression test error: %f\" % test_error)\n",
    "\n",
    "#logistic regression with 5-fold CV: you can use use linear_model.LogisticRegressionCV\n",
    "# use 5-fold CV to find the best choice of the parameter, than train\n",
    "# the model on the entire training set\n",
    "lr_cv = linear_model.LogisticRegressionCV(cv=5)\n",
    "lr_cv.fit(X_train, y_train)\n",
    "\n",
    "training_error_cv = 1. - lr_cv.score(X_train, y_train)\n",
    "test_error_cv = 1. - lr_cv.score(X_test, y_test)\n",
    "\n",
    "print (\"Best logistic regression training error with CV: %f\" % training_error_cv)\n",
    "print (\"Best logistic regression test error with CV: %f\" % test_error_cv)\n"
   ]
  },
  {
   "cell_type": "code",
   "execution_count": 17,
   "metadata": {},
   "outputs": [
    {
     "name": "stdout",
     "output_type": "stream",
     "text": [
      "INPUT:\n"
     ]
    },
    {
     "data": {
      "image/png": "[encoded data removed]",
      "text/plain": [
       "<Figure size 640x480 with 1 Axes>"
      ]
     },
     "metadata": {},
     "output_type": "display_data"
    },
    {
     "name": "stdout",
     "output_type": "stream",
     "text": [
      "LABEL: 2\n",
      "SVM prediction: 2\n",
      "LR prediction: 0\n"
     ]
    }
   ],
   "source": [
    "# get the predictions from logistic regression and SVM\n",
    "logistic_pred = lr_cv.predict(X_test)\n",
    "svm_pred = best_SVM.predict(X_test)\n",
    "\n",
    "for i in range(0, len(logistic_pred)):\n",
    "    if svm_pred[i] != logistic_pred[i] and svm_pred[i] == y_test[i]:\n",
    "        plot_digit(X_test,y_test,i)\n",
    "        print(\"SVM prediction: %s\" % svm_pred[i])\n",
    "        print(\"LR prediction: %s\" % logistic_pred[i])\n",
    "        break\n"
   ]
  },
  {
   "cell_type": "markdown",
   "metadata": {},
   "source": [
    "## TO DO 7\n",
    "Compare and comment on the differences with the results above."
   ]
  },
  {
   "attachments": {},
   "cell_type": "markdown",
   "metadata": {},
   "source": [
    "It looks like the models performed better when trained on 1000 samples compared to when they were trained on 500 samples. For the SVM model, the test error was 0.110835 with 500 samples and 0.080362 with 1000 samples. For the logistic regression model, the test error was 0.163338 with 500 samples and 0.131333 with 1000 samples.\n",
    "Additionally, it appears that using cross-validation with logistic regression improved the model's performance. The test error with cross-validation was 0.168158 when trained on 500 samples and 0.130159 when trained on 1000 samples.\n",
    "Overall, it seems that increasing the number of samples used for training the models improved their performance. Using cross-validation with logistic regression also improved the model's performance."
   ]
  }
 ],
 "metadata": {
  "kernelspec": {
   "display_name": "Python 3.10.2 64-bit",
   "language": "python",
   "name": "python3"
  },
  "language_info": {
   "codemirror_mode": {
    "name": "ipython",
    "version": 3
   },
   "file_extension": ".py",
   "mimetype": "text/x-python",
   "name": "python",
   "nbconvert_exporter": "python",
   "pygments_lexer": "ipython3",
   "version": "3.10.2"
  },
  "vscode": {
   "interpreter": {
    "hash": "26de051ba29f2982a8de78e945f0abaf191376122a1563185a90213a26c5da77"
   }
  }
 },
 "nbformat": 4,
 "nbformat_minor": 4
}
